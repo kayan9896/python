{
 "cells": [
  {
   "cell_type": "code",
   "execution_count": null,
   "id": "1c2d2807-af50-4ed7-90cc-3052f2c90e0f",
   "metadata": {},
   "outputs": [],
   "source": [
    "#!pip install keras==2.15.0 matplotlib pillow numpy tensorflow \n",
    "import tensorflow as tf\n",
    "import numpy as np\n",
    "from keras.models import *\n",
    "from keras.layers import *\n",
    "from keras.optimizers import *\n",
    "\n",
    "X = []\n",
    "y = []\n",
    "#Randomly generate 10 sample arrays for X and y where y is the flip of X\n",
    "for i in range(10):\n",
    "  X.append(np.round(np.random.rand(8,8)).reshape(8,8,1))\n",
    "  y.append(np.abs(1-X[-1]).reshape(8,8,1))\n",
    "\n",
    "X = np.array(X)\n",
    "y = np.array(y)\n",
    "input_size = X[0].shape\n",
    "inputs = Input(input_size)  \n",
    "print(input_size)\n",
    "print(inputs)\n",
    "\n",
    "#Construct the 1st layer with 2 filters of size 3x3, ReLU as activation function, and padding\n",
    "conv1 = Conv2D(filters = 2,   \n",
    "               kernel_size = 3,  \n",
    "               activation = 'relu',   \n",
    "               padding = 'same',     \n",
    "               kernel_initializer = 'he_normal')(inputs)\n",
    "conv1"
   ]
  },
  {
   "cell_type": "code",
   "execution_count": null,
   "id": "eae95e3a-e07e-4fb0-938a-276a899551e1",
   "metadata": {},
   "outputs": [],
   "source": [
    "#Construct the second layer with two filters of size 3x3x2. \n",
    "#The double of the number of channels can be handled by the function so no extra parameter is needed.\n",
    "conv2 = Conv2D(filters = 2,  \n",
    "               kernel_size = 3,  \n",
    "               activation = 'relu',    \n",
    "               padding = 'same',    \n",
    "               kernel_initializer = 'he_normal')(conv1)\n",
    "\n",
    "#Apply max pooling\n",
    "pool1 = MaxPooling2D(pool_size=(2, 2))(conv2)\n",
    "conv2, pool1"
   ]
  },
  {
   "cell_type": "code",
   "execution_count": null,
   "id": "5dbd3c12-0d85-4ae7-b17c-d4fbefbf413a",
   "metadata": {},
   "outputs": [],
   "source": [
    "#Construct the 3rd and 4th layer\n",
    "conv3 = Conv2D(filters = 3, kernel_size = 3, activation = 'relu', padding = 'same', kernel_initializer = 'he_normal')(pool1)\n",
    "conv4 = Conv2D(filters = 3, kernel_size = 3, activation = 'relu', padding = 'same', kernel_initializer = 'he_normal')(conv3)\n",
    "\n",
    "#Apply upsampling to the output of the 4th layer and use the result as the input of the 5th layer\n",
    "up1 = UpSampling2D(size = (2,2))(conv4)\n",
    "conv5 = Conv2D(2, 3, activation = 'relu', padding = 'same', kernel_initializer = 'he_normal')(up1)\n",
    "\n",
    "#Concatenate the 2nd and the 5th layer, stacking the images on the third axis\n",
    "concat1 = concatenate([conv2,conv5], axis = 3)\n",
    "\n",
    "#Show the result for upsampling and concatenation\n",
    "up1, concat1"
   ]
  },
  {
   "cell_type": "code",
   "execution_count": null,
   "id": "a4a3f3d8-81d0-423c-a456-e62a64226fd5",
   "metadata": {},
   "outputs": [],
   "source": [
    "#Construct the 6th and output layer\n",
    "conv6 = Conv2D(2, 3, activation = 'relu', padding = 'same', kernel_initializer = 'he_normal')(concat1)\n",
    "out = Conv2D(1, 3, activation = 'sigmoid', padding = 'same', kernel_initializer = 'he_normal')(conv6)\n",
    "\n",
    "#Create the model, show its summary and compile it with loss and metrics parameters\n",
    "model = Model(inputs, out)\n",
    "model.summary()\n",
    "model.compile(loss = 'mse', metrics = ['BinaryIoU'])\n",
    "\n",
    "#Fit the data and train it for 100 epochs\n",
    "model.fit(X, y, epochs=100) "
   ]
  },
  {
   "cell_type": "code",
   "execution_count": null,
   "id": "f8a3212f-9066-4a73-8283-d83af12686e0",
   "metadata": {},
   "outputs": [],
   "source": [
    "from PIL import Image\n",
    "import matplotlib.pyplot as plt\n",
    "import os\n",
    "\n",
    "im = Image.open(os.getcwd()+\"/1.png\")\n",
    "im_matrix = np.array(im)\n",
    "print(im_matrix,im_matrix.shape)\n",
    "\n",
    "#Get the flipped image array\n",
    "flip = np.abs(1-im_matrix)\n",
    "\n",
    "#Predict the output with the model\n",
    "#keras needs the shape to match the input shape it expected so it reshapes twice\n",
    "predicted = model.predict(im_matrix.reshape(1,8,8,1)).reshape(8,8)   \n",
    "\n",
    "#Display the three images\n",
    "fig = plt.figure(figsize=(15,5))\n",
    "ax1,ax2,ax3 = fig.subplots(1,3)\n",
    "ax1.imshow(im_matrix), ax1.set_title(\"Original\")\n",
    "ax2.imshow(flip), ax2.set_title(\"Flipped\")\n",
    "ax3.imshow(predicted), ax3.set_title(\"Predicted Output\")"
   ]
  }
 ],
 "metadata": {
  "kernelspec": {
   "display_name": "Python 3 (ipykernel)",
   "language": "python",
   "name": "python3"
  },
  "language_info": {
   "codemirror_mode": {
    "name": "ipython",
    "version": 3
   },
   "file_extension": ".py",
   "mimetype": "text/x-python",
   "name": "python",
   "nbconvert_exporter": "python",
   "pygments_lexer": "ipython3",
   "version": "3.11.9"
  }
 },
 "nbformat": 4,
 "nbformat_minor": 5
}
