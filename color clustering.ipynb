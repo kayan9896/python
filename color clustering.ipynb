{
 "cells": [
  {
   "cell_type": "code",
   "execution_count": null,
   "id": "69ce8d39-74cf-40fd-bd3f-c4d30758bc6f",
   "metadata": {
    "scrolled": true
   },
   "outputs": [],
   "source": [
    "#!pip install matplotlib scikit-learn pillow numpy\n",
    "import matplotlib.pyplot as plt\n",
    "import os\n",
    "import numpy as np\n",
    "from PIL import Image\n",
    "\n",
    "# Load the image file, display the image and show the image data with its size\n",
    "im = Image.open(os.getcwd()+\"/colors.png\")\n",
    "im_matrix = np.array(im)\n",
    "ax = plt.axes(xticks=[], yticks=[])\n",
    "ax.imshow(im)\n",
    "print(im_matrix.shape)\n",
    "print(im_matrix)\n",
    "\n",
    "# Scale the values to the range from 0 to 1 and flatten the array to 2D\n",
    "data = im_matrix / 255\n",
    "data = data.reshape(668 * 1000, 3)\n",
    "print(data.shape)\n",
    "print(data)"
   ]
  },
  {
   "cell_type": "code",
   "execution_count": null,
   "id": "310062e3-7931-42ab-a8be-636b9a13818e",
   "metadata": {},
   "outputs": [],
   "source": [
    "# Initialize a random number generator to generate a random permutation of indices and select the first 100000 to avoid long computation time\n",
    "rng = np.random.RandomState(0)\n",
    "i = rng.permutation(data.shape[0])[:100000]\n",
    "\n",
    "# Select the colors corresponding to the randomly chosen indices and transpose the selected data to separate the Red, Green, and Blue channels\n",
    "colors = data[i]\n",
    "R, G, B = data[i].T\n",
    "\n",
    "# Plot the scatter chart of Red vs Green values and Red vs Blue values, colored by the original colors\n",
    "fig, ax = plt.subplots(1, 2, figsize=(16, 6))\n",
    "ax[0].scatter(R, G, color=colors, marker='.')\n",
    "ax[0].set(xlabel='Red', ylabel='Green', xlim=(0, 1), ylim=(0, 1))\n",
    "\n",
    "ax[1].scatter(R, B, color=colors, marker='.')\n",
    "ax[1].set(xlabel='Red', ylabel='Blue', xlim=(0, 1), ylim=(0, 1))\n",
    "\n",
    "fig.suptitle('Input color space: millions of possible colors', size=20)"
   ]
  },
  {
   "cell_type": "code",
   "execution_count": null,
   "id": "356c261f-8530-4fe2-89b1-5d223db8a047",
   "metadata": {},
   "outputs": [],
   "source": [
    "# Employ the KMeans function from sklearn to fit the data and train a model with 7 clusters. Extract the 7 new colors by the centroids of the KMeans model.\n",
    "from sklearn.cluster import KMeans\n",
    "kmeans = KMeans(7).fit(data)\n",
    "new_colors = kmeans.cluster_centers_[kmeans.predict(data)]\n",
    "\n",
    "# Initialize a random number generator to generate a random permutation of indices and select the first 100000 to avoid long computation time\n",
    "rng = np.random.RandomState(0)\n",
    "i = rng.permutation(data.shape[0])[:100000]\n",
    "\n",
    "# Select the new colors corresponding to the randomly chosen indices and transpose the selected data to separate the Red, Green, and Blue channels\n",
    "colors = new_colors[i]\n",
    "R, G, B = data[i].T\n",
    "\n",
    "fig, ax = plt.subplots(1, 2, figsize=(16, 6))\n",
    "ax[0].scatter(R, G, color=colors, marker='.')\n",
    "ax[0].set(xlabel='Red', ylabel='Green', xlim=(0, 1), ylim=(0, 1))\n",
    "\n",
    "ax[1].scatter(R, B, color=colors, marker='.')\n",
    "ax[1].set(xlabel='Red', ylabel='Blue', xlim=(0, 1), ylim=(0, 1))\n",
    "\n",
    "fig.suptitle('Reduced color space: 7 colors', size=20);\n"
   ]
  },
  {
   "cell_type": "code",
   "execution_count": null,
   "id": "153e4ba3-241e-49fc-af27-8838b1f12df2",
   "metadata": {},
   "outputs": [],
   "source": [
    "# Convert the 2D array back to the original shape for rendering the processed image\n",
    "seven_color = new_colors.reshape(im_matrix.shape)\n",
    "\n",
    "# Plot the original image and the processed image\n",
    "fig, ax = plt.subplots(1, 2, figsize=(16, 6), subplot_kw=dict(xticks=[], yticks=[]))\n",
    "fig.subplots_adjust(wspace=0.05)\n",
    "ax[0].imshow(im)\n",
    "ax[0].set_title('Original Image', size=16)\n",
    "ax[1].imshow(seven_color)\n",
    "ax[1].set_title('7-color Image', size=16);\n"
   ]
  },
  {
   "cell_type": "code",
   "execution_count": null,
   "id": "a8a2b4d7-4683-417a-8563-f655cee5dbfa",
   "metadata": {
    "scrolled": true
   },
   "outputs": [],
   "source": [
    "# Apply the elbow method to the data and train the model with clusters from 1 to 10\n",
    "inertia = []\n",
    "clusters = range(1, 10)\n",
    "for k in clusters:\n",
    "    kmeans = KMeans(k)\n",
    "    kmeans.fit(data)\n",
    "    inertia.append(kmeans.inertia_)\n",
    "\n",
    "# Plot the elbow curve\n",
    "plt.figure(figsize=(8, 4))\n",
    "plt.plot(clusters, inertia, 'o-')\n",
    "plt.xlabel('Number of clusters (k)')\n",
    "plt.ylabel('Inertia')\n",
    "plt.title('Elbow curve')\n",
    "plt.show()"
   ]
  },
  {
   "cell_type": "code",
   "execution_count": null,
   "id": "3c7b2ba0-3336-4ad9-acd1-22d6b6b44d7d",
   "metadata": {},
   "outputs": [],
   "source": []
  }
 ],
 "metadata": {
  "kernelspec": {
   "display_name": "Python 3 (ipykernel)",
   "language": "python",
   "name": "python3"
  },
  "language_info": {
   "codemirror_mode": {
    "name": "ipython",
    "version": 3
   },
   "file_extension": ".py",
   "mimetype": "text/x-python",
   "name": "python",
   "nbconvert_exporter": "python",
   "pygments_lexer": "ipython3",
   "version": "3.11.9"
  }
 },
 "nbformat": 4,
 "nbformat_minor": 5
}
