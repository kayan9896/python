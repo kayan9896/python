{
 "cells": [
  {
   "cell_type": "code",
   "execution_count": null,
   "id": "06e89de1-e40c-43d7-aa2a-d00059d8c050",
   "metadata": {},
   "outputs": [],
   "source": [
    "#!pip install matplotlib pillow numpy matplotlib scipy\n",
    "from PIL import Image\n",
    "import numpy as np\n",
    "import matplotlib.pyplot as plt\n",
    "import os\n",
    "# Create the 2D array using NumPy\n",
    "array = np.array([[0,1,1,2,4,4,3,2,2],\n",
    "               [4,3,2,4,5,5,4,3,1],\n",
    "               [0,1,1,4,5,4,3,2,2],\n",
    "               [2,2,1,3,0,0,0,0,0],\n",
    "               [3,0,1,1,2,3,4,2,2],\n",
    "               [4,0,2,1,0,1,3,3,2],\n",
    "               [3,0,1,2,1,1,4,4,5],\n",
    "               [2,0,1,2,1,3,5,6,7],\n",
    "               [1,0,0,2,1,4,6,8,8]],dtype=np.uint8)\n",
    "\n",
    "# Convert the 2D array to an image and save it\n",
    "image = Image.fromarray(array, mode='L')\n",
    "image.save(os.getcwd()+'/image.png')\n",
    "\n",
    "im = Image.open(os.getcwd()+\"/image.png\")\n",
    "im_matrix = np.array(im)\n",
    "ax = plt.axes(xticks=[], yticks=[])\n",
    "ax.imshow(im)\n",
    "print(im)\n",
    "print(im_matrix.shape)\n",
    "print(im_matrix)"
   ]
  },
  {
   "cell_type": "code",
   "execution_count": null,
   "id": "a53d148e-ef38-47cc-8cbb-99921dc516e4",
   "metadata": {},
   "outputs": [],
   "source": [
    "from scipy.ndimage import convolve \n",
    "#define the filter array\n",
    "filt1_ch1 = np.array([[1,2,1],[0,0,0],[-1,-2,-1]])\n",
    "\n",
    "#Apply the convolvsion using the image matrix and the filter using scipy function\n",
    "conv1_ch1 = convolve(im_matrix, filt1_ch1, mode = 'constant')  # set mode=constant for valid padding\n",
    "\n",
    "fig = plt.figure(figsize=(15,5))\n",
    "ax1, ax2, ax3 = fig.subplots(1,3)\n",
    "ax1.imshow(im), ax1.set_title('Original Image')\n",
    "ax2.imshow(filt1_ch1), ax2.set_title('Filter')\n",
    "ax3.imshow(conv1_ch1), ax3.set_title('Convolved Image')"
   ]
  },
  {
   "cell_type": "code",
   "execution_count": null,
   "id": "fe15228e-f36f-4449-a7bc-d3985cff4637",
   "metadata": {},
   "outputs": [],
   "source": [
    "filt1_ch2 = np.array([[1,1,1], [0,0,0], [1,1,1]])   \n",
    "filt1_ch3 = np.array([[1,0,-1], [1,0,-1], [1,0,-1]])    \n",
    "filt1_ch4 = np.array([[0,1,0], [2,3,2], [-1,-2,-1]])    \n",
    "filt1_ch5 = np.array([[-1,-1,-1], [0,0,0], [1,1,1]])\n",
    "#filters for the 5 channels in the first convulsion\n",
    "filt1_list=[filt1_ch1, filt1_ch2, filt1_ch3, filt1_ch4, filt1_ch5]\n",
    "\n",
    "#results after the first convulsion\n",
    "conv1_list=[]\n",
    "for filt in filt1_list:\n",
    "    conv_ch = convolve(im, filt, mode = 'constant')\n",
    "    conv1_list.append(conv_ch)\n",
    "\n",
    "fig = plt.figure(figsize=(18,5))\n",
    "ax = fig.subplots(1,5)\n",
    "for i in range(len(conv1_list)):\n",
    "    ax[i].imshow(conv1_list[i]), ax[i].set_title(f'Convolved Image {i+1}')\n"
   ]
  },
  {
   "cell_type": "code",
   "execution_count": null,
   "id": "0cb8cdcd-92d9-4c69-835c-430c19bb788b",
   "metadata": {},
   "outputs": [],
   "source": [
    "#Plot the first convulved images for the 5 channels\n",
    "fig = plt.figure(figsize=(18,5))\n",
    "ax = fig.subplots(1,5)\n",
    "for i in range(len(conv1_list)):\n",
    "    ax[i].imshow(conv1_list[i]), ax[i].set_title(f'Conv 1: Convolved Image {i+1}')\n",
    "\n",
    "\n",
    "# Filters for the second convulsion used in 5 channels\n",
    "filt2_ch1 = np.array([[0,-1,1],[-1,-1,1],[1,1,0]])\n",
    "filt2_ch2 = np.array([[2,-1,2],[2,1,2],[2,0,2]])\n",
    "filt2_ch3 = np.array([[-1,1,-1],[1,-1,1],[-2,-1,2]])\n",
    "filt2_ch4 = np.array([[-1,-2,-1],[-1,-1,0],[2,-1,-2]])\n",
    "filt2_ch5 = np.array([[-1,-1,1],[-2,-1,0],[2,-1,-2]])\n",
    "filt2_list=[filt2_ch1, filt2_ch2, filt2_ch3, filt2_ch4, filt2_ch5]\n",
    "\n",
    "#Plot the filter images\n",
    "fig2 = plt.figure(figsize=(18,5))\n",
    "ax = fig2.subplots(1,5)\n",
    "for i in range(len(filt2_list)):\n",
    "    ax[i].imshow(filt2_list[i]), ax[i].axis('off'), ax[i].set_title(f'Conv 2: Filter for Channel {i+1}')\n",
    "\n",
    "#Apply the second colvulsion with the new filters and the first convolved matriz\n",
    "conv2_list=[]\n",
    "for i in range(len(filt2_list)):\n",
    "    conv2_list.append(convolve(conv1_list[i], filt2_list[i], mode = 'constant'))\n",
    "\n",
    "#Plot the convolved image after the second convulsion\n",
    "fig3 = plt.figure(figsize=(18,5))\n",
    "ax = fig3.subplots(1,5)\n",
    "for i in range(len(filt2_list)):\n",
    "    ax[i].imshow(conv2_list[i]), ax[i].axis('off'), ax[i].set_title(f'Conv 2: Convolved Image {i+1}')"
   ]
  },
  {
   "cell_type": "code",
   "execution_count": null,
   "id": "43c670ba-089e-4fb5-9894-f2b5971682dd",
   "metadata": {},
   "outputs": [],
   "source": [
    "convOutput = sum(conv2_list)\n",
    "plt.imshow(convOutput)"
   ]
  },
  {
   "cell_type": "code",
   "execution_count": null,
   "id": "f31d2692-89e6-4778-9faa-278bd420fa02",
   "metadata": {},
   "outputs": [],
   "source": []
  }
 ],
 "metadata": {
  "kernelspec": {
   "display_name": "Python 3 (ipykernel)",
   "language": "python",
   "name": "python3"
  },
  "language_info": {
   "codemirror_mode": {
    "name": "ipython",
    "version": 3
   },
   "file_extension": ".py",
   "mimetype": "text/x-python",
   "name": "python",
   "nbconvert_exporter": "python",
   "pygments_lexer": "ipython3",
   "version": "3.11.9"
  }
 },
 "nbformat": 4,
 "nbformat_minor": 5
}
